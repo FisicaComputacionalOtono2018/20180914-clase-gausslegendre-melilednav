{
  "nbformat": 4,
  "nbformat_minor": 0,
  "metadata": {
    "colab": {
      "name": "Untitled14.ipynb",
      "version": "0.3.2",
      "provenance": [],
      "collapsed_sections": []
    },
    "kernelspec": {
      "name": "python3",
      "display_name": "Python 3"
    }
  },
  "cells": [
    {
      "metadata": {
        "id": "h_GZr04cvkjj",
        "colab_type": "code",
        "colab": {
          "base_uri": "https://localhost:8080/",
          "height": 34
        },
        "outputId": "854e6e16-5876-454d-a812-bc72f73652c7"
      },
      "cell_type": "code",
      "source": [
        "#Integral exacta 2.\n",
        "#Ledesma Olmos, Melissa.\n",
        "\n",
        "from sympy import *\n",
        "\n",
        "x=Symbol('x')\n",
        "n=int(input(\"Ingrese grado del polinomio: \"))\n",
        "\n",
        "def factorial(n):\n",
        "  fac=1\n",
        "  for i in range(1,n+1):\n",
        "    fac=fac*i\n",
        "  return(fac)\n",
        "\n",
        "def Pn(x,n):\n",
        "  cte=1/((2**n)*(factorial(n)))\n",
        "  ec=diff((x**2 - 1)**n, x, n)\n",
        "  d3=ec*cte\n",
        "  return(d3)\n",
        "\n",
        "def w(x,n):\n",
        "  a=[]\n",
        "  xi=[0.1, 0.57]\n",
        "  adf=diff(Pn(x,n),x).subs(x,xi)\n",
        "  wi=2/((1-xi**2)*adf**2)\n",
        "  a=wi\n",
        "  return(a)\n",
        " \n",
        "#print(\"Polinomio de Legendre: \", Pn(x,n))\n",
        "#print(\"Valor real: \", vReal(x,n,xs))\n"
      ],
      "execution_count": 19,
      "outputs": [
        {
          "output_type": "stream",
          "text": [
            "Ingrese grado del polinomio: 4\n"
          ],
          "name": "stdout"
        }
      ]
    },
    {
      "metadata": {
        "id": "8k6OAoxT6wcC",
        "colab_type": "code",
        "colab": {}
      },
      "cell_type": "code",
      "source": [
        "def vReal(x,n,xs):\n",
        "  a=diff(Pn(x,n),x).subs(x,xi)\n",
        "  return(a)\n",
        "\n"
      ],
      "execution_count": 0,
      "outputs": []
    }
  ]
}