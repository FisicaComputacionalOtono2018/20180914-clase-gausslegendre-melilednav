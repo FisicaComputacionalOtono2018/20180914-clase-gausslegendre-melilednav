{
  "nbformat": 4,
  "nbformat_minor": 0,
  "metadata": {
    "colab": {
      "name": "Untitled14.ipynb",
      "version": "0.3.2",
      "provenance": [],
      "collapsed_sections": []
    },
    "kernelspec": {
      "name": "python3",
      "display_name": "Python 3"
    }
  },
  "cells": [
    {
      "metadata": {
        "id": "h_GZr04cvkjj",
        "colab_type": "code",
        "colab": {
          "base_uri": "https://localhost:8080/",
          "height": 52
        },
        "outputId": "d94ef7e3-2e05-4717-dfaf-799407476f79"
      },
      "cell_type": "code",
      "source": [
        "#Integral exacta 1.\n",
        "#Ledesma Olmos, Melissa.\n",
        "\n",
        "from sympy import *\n",
        "\n",
        "x = Symbol('x')\n",
        "n=int(input())\n",
        "\n",
        "def factorial(n):\n",
        "  fac=1\n",
        "  for i in range(1,n+1):\n",
        "    fac=fac*i\n",
        "  return(fac)\n",
        "\n",
        "def Pn(x,n):\n",
        "  cte=1/((2**n)*(factorial(n)))\n",
        "  ec=diff((x**2 - 1)**n, x, n)\n",
        "  d3=ec*cte\n",
        "  return(d3)\n",
        "\n",
        "\n",
        "\n",
        "\n",
        "print(Pn(x, n))"
      ],
      "execution_count": 8,
      "outputs": [
        {
          "output_type": "stream",
          "text": [
            "5\n",
            "0.125*x*(8*x**4 + 40*x**2*(x**2 - 1) + 15*(x**2 - 1)**2)\n"
          ],
          "name": "stdout"
        }
      ]
    }
  ]
}